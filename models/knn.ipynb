{
 "cells": [
  {
   "cell_type": "code",
   "execution_count": 1,
   "metadata": {},
   "outputs": [],
   "source": [
    "import numpy as np\n",
    "import pandas as pd"
   ]
  },
  {
   "cell_type": "code",
   "execution_count": 2,
   "metadata": {},
   "outputs": [
    {
     "name": "stdout",
     "output_type": "stream",
     "text": [
      "   person  position            6            7            8            9  \\\n",
      "0       1        15  1065.800171  1122.000000  1140.959717  1149.192749   \n",
      "1       1        15  1113.772827  1143.942749  1154.906494  1169.500732   \n",
      "2       1        15  1124.308228  1160.555908  1165.652588  1186.630981   \n",
      "3       1        15  1029.971313  1088.882446  1119.114380  1135.856445   \n",
      "4       1        15   940.240906   993.563782  1015.406311  1025.750488   \n",
      "\n",
      "            10           11           12           13  ...        241  \\\n",
      "0  1176.137695  1157.608276  1277.454468  1367.686035  ...  30.594116   \n",
      "1  1203.415161  1205.308716  1289.960083  1381.813354  ...  93.776329   \n",
      "2  1203.795654  1217.792236  1291.743774  1373.600342  ...  74.202423   \n",
      "3  1169.920044  1180.042358  1261.740112  1352.575684  ...  47.010635   \n",
      "4  1037.167725  1055.597046  1118.517334  1198.773071  ...  39.319206   \n",
      "\n",
      "         242        243        244        245        246        247  \\\n",
      "0  74.148499  33.241539  33.105892  72.111023  30.066593  51.009804   \n",
      "1  44.721359  18.439089  60.083275  58.940647  65.192024  14.317822   \n",
      "2  50.249378  59.405388  58.830265  16.000000  48.548943  67.742157   \n",
      "3  42.059483  63.976559  17.464249  73.790245  72.732384  16.401220   \n",
      "4  21.095022  22.472204  22.472204  18.248287  33.060551  54.083271   \n",
      "\n",
      "          248        249        250  \n",
      "0  107.018692  69.079666  42.201897  \n",
      "1   32.280025  85.023529  68.359344  \n",
      "2   41.400482  20.615528  75.166481  \n",
      "3   24.839485  50.606323  26.832815  \n",
      "4   55.000000  99.403221  84.202141  \n",
      "\n",
      "[5 rows x 236 columns]\n"
     ]
    }
   ],
   "source": [
    "data_path = \"data/combined/\"\n",
    "data_file = \"amplitude_csi_dataframe.pkl\"\n",
    "\n",
    "DISCRETE_VARIABLES = [\"person\"]\n",
    "TARGET_VARIABLE = \"position\"\n",
    "STATE = 42\n",
    "\n",
    "data_df: pd.DataFrame = pd.read_pickle(data_path + data_file)\n",
    "\n",
    "# Convert all column names to strings\n",
    "data_df.columns = data_df.columns.astype(str)\n",
    "\n",
    "print(data_df.head())"
   ]
  },
  {
   "cell_type": "code",
   "execution_count": 3,
   "metadata": {},
   "outputs": [
    {
     "name": "stdout",
     "output_type": "stream",
     "text": [
      "(2012000, 235)\n",
      "['person', '10', '100', '101', '102', '103', '104', '105', '106', '107', '108', '109', '11', '110', '111', '112', '113', '114', '115', '116', '118', '119', '12', '120', '121', '122', '123', '124', '125', '126', '13', '130', '131', '132', '133', '134', '135', '136', '137', '138', '14', '140', '141', '142', '143', '144', '145', '146', '147', '148', '149', '15', '150', '151', '152', '153', '154', '155', '156', '157', '158', '159', '16', '160', '161', '162', '163', '164', '165', '166', '168', '169', '17', '170', '171', '172', '173', '174', '175', '176', '177', '178', '179', '18', '180', '181', '182', '183', '184', '185', '186', '187', '188', '189', '19', '190', '191', '192', '193', '194', '195', '196', '197', '198', '199', '20', '200', '201', '202', '204', '205', '206', '207', '208', '209', '21', '210', '211', '212', '213', '214', '215', '216', '217', '218', '219', '22', '220', '221', '222', '223', '224', '225', '226', '227', '228', '229', '23', '230', '232', '233', '234', '235', '236', '237', '238', '239', '24', '240', '241', '242', '243', '244', '245', '246', '247', '248', '249', '250', '26', '27', '28', '29', '30', '31', '32', '33', '34', '35', '36', '37', '38', '39', '40', '41', '42', '43', '44', '45', '46', '47', '48', '49', '50', '51', '52', '54', '55', '56', '57', '58', '59', '6', '60', '61', '62', '63', '64', '65', '66', '67', '68', '69', '7', '70', '71', '72', '73', '74', '75', '76', '77', '78', '79', '8', '80', '81', '82', '83', '84', '85', '86', '87', '88', '9', '90', '91', '92', '93', '94', '95', '96', '97', '98', '99']\n",
      "[[ 1.          1.1584998   4.241609   ... -1.024961    0.31510666\n",
      "  -0.02635923]\n",
      " [ 1.          1.2411071   1.417141   ... -0.33994296  0.1294982\n",
      "   1.7524972 ]\n",
      " [ 1.          1.2422594  -0.51449496 ...  1.8852344   0.0508704\n",
      "   0.061519  ]\n",
      " [ 1.          1.1396703  -0.6985639  ...  0.95808834  0.2827287\n",
      "  -0.964712  ]\n",
      " [ 1.          0.73764205  0.5140201  ... -0.433924   -0.75115263\n",
      "  -0.08285334]]\n"
     ]
    }
   ],
   "source": [
    "from sklearn.compose import ColumnTransformer\n",
    "from sklearn.impute import SimpleImputer\n",
    "from sklearn.pipeline import Pipeline\n",
    "from sklearn.preprocessing import StandardScaler\n",
    "\n",
    "categorical_features = DISCRETE_VARIABLES\n",
    "numerical_features = data_df.columns.difference(\n",
    "    categorical_features + [TARGET_VARIABLE]\n",
    ")\n",
    "features = categorical_features + numerical_features.tolist()\n",
    "input_data = data_df.drop(columns=TARGET_VARIABLE)\n",
    "\n",
    "numeric_transformer = Pipeline(\n",
    "    steps=[(\"imputer\", SimpleImputer(strategy=\"median\")), (\"scaler\", StandardScaler())]\n",
    ")\n",
    "\n",
    "preprocessor = ColumnTransformer(\n",
    "    transformers=[\n",
    "        (\"cat\", \"passthrough\", categorical_features),\n",
    "        (\"num\", numeric_transformer, numerical_features),\n",
    "    ]\n",
    ")\n",
    "\n",
    "preprocessed_data: np.ndarray = preprocessor.fit_transform(input_data)\n",
    "print(preprocessed_data.shape)\n",
    "print(features)\n",
    "print(preprocessed_data[:5])"
   ]
  },
  {
   "cell_type": "code",
   "execution_count": 7,
   "metadata": {},
   "outputs": [
    {
     "name": "stdout",
     "output_type": "stream",
     "text": [
      "              precision    recall  f1-score   support\n",
      "\n",
      "           0       0.55      0.78      0.64     21599\n",
      "           1       0.44      0.62      0.51     22272\n",
      "           2       0.43      0.53      0.47     22542\n",
      "           3       0.33      0.23      0.27     22677\n",
      "           4       0.45      0.68      0.54     22352\n",
      "           5       0.52      0.64      0.57     22562\n",
      "           6       0.39      0.40      0.39     22412\n",
      "           7       0.41      0.40      0.41     22324\n",
      "           8       0.42      0.41      0.42     22476\n",
      "           9       0.41      0.38      0.39     22495\n",
      "          10       0.57      0.71      0.63     22109\n",
      "          11       0.64      0.73      0.68     22463\n",
      "          12       0.59      0.70      0.64     22172\n",
      "          13       0.61      0.72      0.66     22423\n",
      "          14       0.49      0.33      0.39     22412\n",
      "          15       0.26      0.12      0.17     22482\n",
      "          16       0.27      0.11      0.15     22421\n",
      "          17       0.33      0.11      0.17     22207\n",
      "\n",
      "    accuracy                           0.48    402400\n",
      "   macro avg       0.45      0.48      0.45    402400\n",
      "weighted avg       0.45      0.48      0.45    402400\n",
      "\n"
     ]
    }
   ],
   "source": [
    "from sklearn.metrics import classification_report\n",
    "from sklearn.model_selection import train_test_split\n",
    "from sklearn.neighbors import KNeighborsClassifier\n",
    "\n",
    "labels = data_df[TARGET_VARIABLE]\n",
    "\n",
    "X = preprocessed_data\n",
    "y = data_df[[TARGET_VARIABLE]].values.ravel()\n",
    "\n",
    "X_train, X_test, y_train, y_test = train_test_split(\n",
    "    X, y, test_size=0.2, random_state=STATE\n",
    ")\n",
    "\n",
    "knn = KNeighborsClassifier(n_neighbors=9, n_jobs=-1)\n",
    "knn.fit(X_train, y_train)\n",
    "\n",
    "y_pred = knn.predict(X_test)\n",
    "print(classification_report(y_test, y_pred, zero_division=1))"
   ]
  }
 ],
 "metadata": {
  "kernelspec": {
   "display_name": ".venv",
   "language": "python",
   "name": "python3"
  },
  "language_info": {
   "codemirror_mode": {
    "name": "ipython",
    "version": 3
   },
   "file_extension": ".py",
   "mimetype": "text/x-python",
   "name": "python",
   "nbconvert_exporter": "python",
   "pygments_lexer": "ipython3",
   "version": "3.12.5"
  }
 },
 "nbformat": 4,
 "nbformat_minor": 2
}
